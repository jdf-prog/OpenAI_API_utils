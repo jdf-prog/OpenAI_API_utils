{
 "cells": [
  {
   "cell_type": "code",
   "execution_count": 1,
   "metadata": {},
   "outputs": [
    {
     "name": "stderr",
     "output_type": "stream",
     "text": [
      "WARNING:root:Loaded cache base from /home/dongfu/.easy-openai/cache/ChatGPT.jsonl.\n",
      "WARNING:root:Using `openai_completions` on 2 prompts using ChatGPT.\n",
      "WARNING:root:Kwargs to completion: {'max_tokens': 50}\n",
      "WARNING:root:Kwargs to completion: {'n': 1, 'model': 'ChatGPT', 'is_chat': True, 'use_cache': True, 'max_tokens': 50}\n"
     ]
    },
    {
     "name": "stdout",
     "output_type": "stream",
     "text": [
      "Default cache dir: /home/dongfu/.easy-openai/cache\n"
     ]
    },
    {
     "name": "stderr",
     "output_type": "stream",
     "text": [
      "prompt_batches: 100%|██████████| 2/2 [00:00<00:00,  5.81it/s]\n",
      "WARNING:root:Completed 2 examples in 0.4 seconds.\n"
     ]
    },
    {
     "data": {
      "text/plain": [
       "{'completions': ['2', '4'],\n",
       " 'price_per_example': [3.7999999999999995e-05, 3.7999999999999995e-05],\n",
       " 'time_per_example': [0.19759058952331543, 0.19759058952331543]}"
      ]
     },
     "execution_count": 1,
     "metadata": {},
     "output_type": "execute_result"
    }
   ],
   "source": [
    "from easy_openai import openai_completions\n",
    "prompts = [\"Respond with one digit: 1+1=\", \"Respond with one digit: 2+2=\"]\n",
    "openai_completions(prompts, model_name=\"ChatGPT\", max_tokens=50) # change model_name to your desired model"
   ]
  },
  {
   "cell_type": "code",
   "execution_count": 2,
   "metadata": {},
   "outputs": [
    {
     "name": "stderr",
     "output_type": "stream",
     "text": [
      "WARNING:root:Using `openai_completions` on 2 prompts using ChatGPT.\n",
      "WARNING:root:Kwargs to completion: {'max_tokens': 50}\n",
      "WARNING:root:Kwargs to completion: {'n': 1, 'model': 'ChatGPT', 'is_chat': True, 'use_cache': True, 'max_tokens': 50}\n",
      "prompt_batches: 100%|██████████| 2/2 [00:00<00:00, 54.33it/s]\n",
      "WARNING:root:Completed 2 examples in 0.1 seconds.\n"
     ]
    },
    {
     "data": {
      "text/plain": [
       "{'completions': ['2', '4'],\n",
       " 'price_per_example': [0, 0],\n",
       " 'time_per_example': [0.05091714859008789, 0.05091714859008789]}"
      ]
     },
     "execution_count": 2,
     "metadata": {},
     "output_type": "execute_result"
    }
   ],
   "source": [
    "from easy_openai import openai_completions\n",
    "prompts = [\"Respond with one digit: 1+1=\", \"Respond with one digit: 2+2=\"]\n",
    "chatmls = [[{\"role\":\"system\",\"content\":\"You are an AI assistant that helps people find information.\"},\n",
    "            {\"role\":\"user\",\"content\": prompt}] for prompt in prompts]\n",
    "openai_completions(chatmls, model_name=\"ChatGPT\", max_tokens=50) # change model_name to your desired model"
   ]
  },
  {
   "cell_type": "code",
   "execution_count": 3,
   "metadata": {},
   "outputs": [
    {
     "name": "stderr",
     "output_type": "stream",
     "text": [
      "WARNING:root:Using `openai_completions` on 2 prompts using ChatGPT.\n",
      "WARNING:root:Kwargs to completion: {'max_tokens': 50}\n",
      "WARNING:root:Kwargs to completion: {'n': 1, 'model': 'ChatGPT', 'is_chat': True, 'use_cache': True, 'max_tokens': 50}\n"
     ]
    },
    {
     "name": "stdout",
     "output_type": "stream",
     "text": [
      "['<|im_start|>system\\nYou are an AI assistant that helps people find information.\\n<|im_end|>\\n<|im_start|>user\\nRespond with one digit: 1+1=\\n<|im_end|>\\n', '<|im_start|>system\\nYou are an AI assistant that helps people find information.\\n<|im_end|>\\n<|im_start|>user\\nRespond with one digit: 2+2=\\n<|im_end|>\\n']\n"
     ]
    },
    {
     "name": "stderr",
     "output_type": "stream",
     "text": [
      "prompt_batches: 100%|██████████| 2/2 [00:00<00:00, 61.37it/s]\n",
      "WARNING:root:Completed 2 examples in 0.1 seconds.\n"
     ]
    },
    {
     "data": {
      "text/plain": [
       "{'completions': ['2', '4'],\n",
       " 'price_per_example': [0, 0],\n",
       " 'time_per_example': [0.030310988426208496, 0.030310988426208496]}"
      ]
     },
     "execution_count": 3,
     "metadata": {},
     "output_type": "execute_result"
    }
   ],
   "source": [
    "from easy_openai import openai_completions, _chatml_to_prompt\n",
    "prompts = [\"Respond with one digit: 1+1=\", \"Respond with one digit: 2+2=\"]\n",
    "chatmls = [[{\"role\":\"system\",\"content\":\"You are an AI assistant that helps people find information.\"},\n",
    "            {\"role\":\"user\",\"content\": prompt}] for prompt in prompts]\n",
    "chat_prompts = [_chatml_to_prompt(chatml) for chatml in chatmls]\n",
    "print(chat_prompts)\n",
    "openai_completions(chat_prompts, model_name=\"ChatGPT\", max_tokens=50) # change model_name to your desired model"
   ]
  }
 ],
 "metadata": {
  "kernelspec": {
   "display_name": "Python 3",
   "language": "python",
   "name": "python3"
  },
  "language_info": {
   "codemirror_mode": {
    "name": "ipython",
    "version": 3
   },
   "file_extension": ".py",
   "mimetype": "text/x-python",
   "name": "python",
   "nbconvert_exporter": "python",
   "pygments_lexer": "ipython3",
   "version": "3.10.13"
  }
 },
 "nbformat": 4,
 "nbformat_minor": 2
}
